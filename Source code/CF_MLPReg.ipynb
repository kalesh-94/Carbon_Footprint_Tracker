{
  "nbformat": 4,
  "nbformat_minor": 0,
  "metadata": {
    "colab": {
      "provenance": []
    },
    "kernelspec": {
      "name": "python3",
      "display_name": "Python 3"
    },
    "language_info": {
      "name": "python"
    }
  },
  "cells": [
    {
      "cell_type": "code",
      "execution_count": null,
      "metadata": {
        "colab": {
          "base_uri": "https://localhost:8080/"
        },
        "id": "nD6w1MkppAdW",
        "outputId": "fbdf9ad0-8c34-4c69-a988-3ff77e7d8fe2"
      },
      "outputs": [
        {
          "output_type": "stream",
          "name": "stdout",
          "text": [
            "RMSE: 261.61410875518663\n",
            "R² Score: 0.9341719789400728\n"
          ]
        }
      ],
      "source": [
        "#LinearRegression\n",
        "import pandas as pd\n",
        "import numpy as np\n",
        "from sklearn.model_selection import train_test_split\n",
        "from sklearn.preprocessing import OneHotEncoder, StandardScaler\n",
        "from sklearn.linear_model import LinearRegression\n",
        "from sklearn.metrics import mean_squared_error, r2_score\n",
        "\n",
        "\n",
        "file_path = \"Carbon Emission.csv\"\n",
        "df = pd.read_csv(file_path)\n",
        "\n"
      ]
    },
    {
      "cell_type": "code",
      "source": [
        "\n",
        "X = df.drop(columns=[\"CarbonEmission\"])\n",
        "y = df[\"CarbonEmission\"]\n",
        "\n",
        "\n",
        "categorical_cols = X.select_dtypes(include=[\"object\"]).columns\n",
        "numerical_cols = X.select_dtypes(include=[\"int64\", \"float64\"]).columns\n",
        "\n",
        "\n",
        "for col in categorical_cols:\n",
        "    X[col] = X[col].fillna(X[col].mode()[0])\n",
        "\n"
      ],
      "metadata": {
        "id": "eWtkvuNW7Z7-"
      },
      "execution_count": null,
      "outputs": []
    },
    {
      "cell_type": "code",
      "source": [
        "# One-hot encode categorical\n",
        "encoder = OneHotEncoder(handle_unknown=\"ignore\", sparse_output=False)\n",
        "X_encoded = encoder.fit_transform(X[categorical_cols])\n",
        "\n",
        "\n"
      ],
      "metadata": {
        "id": "CuHChPzt7Z-p"
      },
      "execution_count": null,
      "outputs": []
    },
    {
      "cell_type": "code",
      "source": [
        "\n",
        "X_encoded_df = pd.DataFrame(X_encoded, columns=encoder.get_feature_names_out())\n",
        "\n",
        "\n",
        "X_numerical = X[numerical_cols].reset_index(drop=True)\n",
        "X_encoded_df = X_encoded_df.reset_index(drop=True)\n",
        "\n",
        "\n",
        "X_final = pd.concat([X_numerical, X_encoded_df], axis=1)\n"
      ],
      "metadata": {
        "id": "SDum80i_7jPj"
      },
      "execution_count": null,
      "outputs": []
    },
    {
      "cell_type": "code",
      "source": [
        "# Standardize the data for better performance\n",
        "scaler = StandardScaler()\n",
        "X_scaled = scaler.fit_transform(X_final)\n",
        "\n",
        "\n",
        "X_train, X_test, y_train, y_test = train_test_split(X_scaled, y, test_size=0.2, random_state=42)\n",
        "\n",
        "# Initialize Linear Regression Model\n",
        "lr = LinearRegression()\n",
        "\n",
        "\n"
      ],
      "metadata": {
        "id": "OSi1l0qa7aA0"
      },
      "execution_count": null,
      "outputs": []
    },
    {
      "cell_type": "code",
      "source": [
        "lr.fit(X_train, y_train)\n",
        "\n",
        "\n",
        "y_pred_lr = lr.predict(X_test)\n",
        "\n"
      ],
      "metadata": {
        "id": "06MtzSoV7aDI"
      },
      "execution_count": null,
      "outputs": []
    },
    {
      "cell_type": "code",
      "source": [
        "# Calculate RMSE and R² Score\n",
        "rmse_lr = np.sqrt(mean_squared_error(y_test, y_pred_lr))\n",
        "r2_lr = r2_score(y_test, y_pred_lr)\n",
        "\n",
        "\n",
        "print(f\"RMSE: {rmse_lr}\")\n",
        "print(f\"R² Score: {r2_lr}\")\n"
      ],
      "metadata": {
        "id": "vWsYUGwj7aFi"
      },
      "execution_count": null,
      "outputs": []
    },
    {
      "cell_type": "code",
      "source": [],
      "metadata": {
        "id": "4a7W54vm7aIE"
      },
      "execution_count": null,
      "outputs": []
    },
    {
      "cell_type": "code",
      "source": [],
      "metadata": {
        "id": "WDPVBEWa7aLk"
      },
      "execution_count": null,
      "outputs": []
    }
  ]
}