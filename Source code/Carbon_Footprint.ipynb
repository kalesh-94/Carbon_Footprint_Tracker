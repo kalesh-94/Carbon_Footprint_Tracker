{
  "nbformat": 4,
  "nbformat_minor": 0,
  "metadata": {
    "colab": {
      "provenance": []
    },
    "kernelspec": {
      "name": "python3",
      "display_name": "Python 3"
    },
    "language_info": {
      "name": "python"
    }
  },
  "cells": [
    {
      "cell_type": "code",
      "source": [
        "# Gradient Boosting Regressor\n",
        "\n",
        "import pandas as pd\n",
        "import numpy as np\n",
        "from sklearn.model_selection import train_test_split\n",
        "from sklearn.preprocessing import OneHotEncoder\n",
        "from sklearn.ensemble import GradientBoostingRegressor\n",
        "from sklearn.metrics import mean_squared_error, r2_score\n",
        "\n",
        "\n",
        "df = pd.read_csv(\"/content/Carbon Emission.csv\")\n",
        "\n"
      ],
      "metadata": {
        "colab": {
          "base_uri": "https://localhost:8080/"
        },
        "id": "wC5idcuBi60h",
        "outputId": "80aed259-6476-4d93-cce9-8ba678b0edd4"
      },
      "execution_count": null,
      "outputs": [
        {
          "output_type": "stream",
          "name": "stderr",
          "text": [
            "<ipython-input-13-35547f155336>:22: FutureWarning: A value is trying to be set on a copy of a DataFrame or Series through chained assignment using an inplace method.\n",
            "The behavior will change in pandas 3.0. This inplace method will never work because the intermediate object on which we are setting values always behaves as a copy.\n",
            "\n",
            "For example, when doing 'df[col].method(value, inplace=True)', try using 'df.method({col: value}, inplace=True)' or df[col] = df[col].method(value) instead, to perform the operation inplace on the original object.\n",
            "\n",
            "\n",
            "  X[col].fillna(X[col].mode()[0], inplace=True)\n"
          ]
        },
        {
          "output_type": "stream",
          "name": "stdout",
          "text": [
            "Shape of X_final: (10000, 78)\n",
            "RMSE: 216.1629983302678\n",
            "R² Score: 0.9550581249948616\n"
          ]
        }
      ]
    },
    {
      "cell_type": "code",
      "source": [
        "X = df.drop(columns=[\"CarbonEmission\"])\n",
        "y = df[\"CarbonEmission\"]\n",
        "\n",
        "\n",
        "categorical_cols = X.select_dtypes(include=[\"object\"]).columns\n",
        "numerical_cols = X.select_dtypes(include=[\"int64\", \"float64\"]).columns\n",
        "\n",
        "\n",
        "for col in categorical_cols:\n",
        "    X[col].fillna(X[col].mode()[0], inplace=True)\n",
        "\n"
      ],
      "metadata": {
        "id": "DTLGbp5gjhLs"
      },
      "execution_count": null,
      "outputs": []
    },
    {
      "cell_type": "code",
      "source": [
        "# One-hot encode categorical variables\n",
        "encoder = OneHotEncoder(handle_unknown=\"ignore\", sparse_output=False)  # Fix applied\n",
        "X_encoded = encoder.fit_transform(X[categorical_cols])\n",
        "\n",
        "# Convert to DataFrame\n",
        "X_encoded_df = pd.DataFrame(X_encoded, columns=encoder.get_feature_names_out())\n",
        "\n",
        "# Reset index to align numerical and encoded data before concatenation\n",
        "X_numerical = X[numerical_cols].reset_index(drop=True)\n",
        "X_encoded_df = X_encoded_df.reset_index(drop=True)\n",
        "\n",
        "# Combine numerical and encoded categorical data\n",
        "X_final = pd.concat([X_numerical, X_encoded_df], axis=1)\n",
        "\n",
        "# Ensure X_final is not empty\n",
        "print(f\"Shape of X_final: {X_final.shape}\")\n",
        "\n",
        "# Split into 80% train and 20% test sets\n",
        "X_train, X_test, y_train, y_test = train_test_split(X_final, y, test_size=0.2, random_state=42)\n",
        "\n"
      ],
      "metadata": {
        "id": "Ex6o0LHA5WgR"
      },
      "execution_count": null,
      "outputs": []
    },
    {
      "cell_type": "code",
      "source": [
        "# Initialize Gradient Boosting Regressor\n",
        "gbr = GradientBoostingRegressor(n_estimators=100, learning_rate=0.1, random_state=42)\n",
        "\n",
        "# Train the model\n",
        "gbr.fit(X_train, y_train)\n",
        "\n",
        "# Predict on test data\n",
        "y_pred = gbr.predict(X_test)\n",
        "\n"
      ],
      "metadata": {
        "id": "OOm3MSfN5Wib"
      },
      "execution_count": null,
      "outputs": []
    },
    {
      "cell_type": "code",
      "source": [
        "# Calculate RMSE (Root Mean Squared Error)\n",
        "rmse = np.sqrt(mean_squared_error(y_test, y_pred))\n",
        "\n",
        "# Calculate R² Score\n",
        "r2 = r2_score(y_test, y_pred)\n",
        "\n",
        "print(f\"RMSE: {rmse}\")\n",
        "print(f\"R² Score: {r2}\")\n"
      ],
      "metadata": {
        "id": "rOJuWOgM5Wku"
      },
      "execution_count": null,
      "outputs": []
    },
    {
      "cell_type": "code",
      "source": [],
      "metadata": {
        "id": "qGnkUu2t5Wmy"
      },
      "execution_count": null,
      "outputs": []
    },
    {
      "cell_type": "code",
      "source": [],
      "metadata": {
        "id": "qSyaDNrV5WpM"
      },
      "execution_count": null,
      "outputs": []
    },
    {
      "cell_type": "code",
      "source": [],
      "metadata": {
        "id": "ShYOe1sm5Wtd"
      },
      "execution_count": null,
      "outputs": []
    },
    {
      "cell_type": "code",
      "source": [],
      "metadata": {
        "id": "fC-2wLJe5Wvc"
      },
      "execution_count": null,
      "outputs": []
    },
    {
      "cell_type": "code",
      "source": [],
      "metadata": {
        "id": "yJQOcOqA5Wwk"
      },
      "execution_count": null,
      "outputs": []
    },
    {
      "cell_type": "code",
      "source": [],
      "metadata": {
        "id": "TiU32P9W5Wxz"
      },
      "execution_count": null,
      "outputs": []
    }
  ]
}